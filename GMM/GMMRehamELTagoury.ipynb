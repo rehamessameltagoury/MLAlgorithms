{
  "nbformat": 4,
  "nbformat_minor": 0,
  "metadata": {
    "colab": {
      "name": "GMMRehamELTagoury.ipynb",
      "provenance": []
    },
    "kernelspec": {
      "name": "python3",
      "display_name": "Python 3"
    },
    "language_info": {
      "name": "python"
    }
  },
  "cells": [
    {
      "cell_type": "markdown",
      "metadata": {
        "id": "pP2HXavFKIb-"
      },
      "source": [
        "# Submitted by: Reham Essam ELTagoury\n",
        "# group: 5"
      ]
    },
    {
      "cell_type": "markdown",
      "metadata": {
        "id": "QmbqiLQLxiMA"
      },
      "source": [
        "# GMM Implementation\n",
        "\n"
      ]
    },
    {
      "cell_type": "markdown",
      "metadata": {
        "id": "NZbhtZdEJ-ej"
      },
      "source": [
        "I used dataset 7 from the previous lab to test my code"
      ]
    },
    {
      "cell_type": "code",
      "metadata": {
        "id": "fGXGkXxExhks"
      },
      "source": [
        "import numpy as np\n",
        "import pandas as pd\n",
        "import seaborn as sns"
      ],
      "execution_count": 250,
      "outputs": []
    },
    {
      "cell_type": "code",
      "metadata": {
        "id": "40_XYtguzrdy"
      },
      "source": [
        "dataset7= pd.read_csv(\"/content/dataset7.csv\")"
      ],
      "execution_count": 251,
      "outputs": []
    },
    {
      "cell_type": "code",
      "metadata": {
        "colab": {
          "base_uri": "https://localhost:8080/",
          "height": 296
        },
        "id": "oy7ZqmXF2dIK",
        "outputId": "daf90ff3-3640-48fc-c15c-bd0723da0b73"
      },
      "source": [
        "from sklearn.preprocessing import StandardScaler\n",
        "z = StandardScaler()\n",
        "dataset7[[\"x\",\"y\"]] = z.fit_transform(dataset7)\n",
        "X=dataset7[['x','y']]\n",
        "sns.scatterplot(x='x',y='y',data=dataset7)"
      ],
      "execution_count": 252,
      "outputs": [
        {
          "output_type": "execute_result",
          "data": {
            "text/plain": [
              "<matplotlib.axes._subplots.AxesSubplot at 0x7fdb2d0ee350>"
            ]
          },
          "metadata": {},
          "execution_count": 252
        },
        {
          "output_type": "display_data",
          "data": {
            "image/png": "[encoded data removed]",
            "text/plain": [
              "<Figure size 432x288 with 1 Axes>"
            ]
          },
          "metadata": {
            "needs_background": "light"
          }
        }
      ]
    },
    {
      "cell_type": "code",
      "metadata": {
        "id": "5NR0-Zro6Ukh"
      },
      "source": [
        "X=X.to_numpy()"
      ],
      "execution_count": 253,
      "outputs": []
    },
    {
      "cell_type": "code",
      "metadata": {
        "id": "CHwx6B6p8dRN",
        "outputId": "3125ee9d-c9a4-4f38-f0b3-427c5f694e2c",
        "colab": {
          "base_uri": "https://localhost:8080/"
        }
      },
      "source": [
        "len(X)"
      ],
      "execution_count": 254,
      "outputs": [
        {
          "output_type": "execute_result",
          "data": {
            "text/plain": [
              "299"
            ]
          },
          "metadata": {},
          "execution_count": 254
        }
      ]
    },
    {
      "cell_type": "code",
      "metadata": {
        "id": "Gvi9fa3A3aVd"
      },
      "source": [
        "def multivariate_normal(X, mean, cov):\n",
        "  return (1/np.linalg.det(2*np.pi*cov)**0.5)*np.exp(-0.5*np.dot(np.dot((X-mean).T, np.linalg.inv(cov)), (X-mean)))"
      ],
      "execution_count": 255,
      "outputs": []
    },
    {
      "cell_type": "code",
      "metadata": {
        "id": "Rv343oJK5Om2"
      },
      "source": [
        "def resposibility(X,n_cluster,pi,mean_vector,cov):\n",
        "\n",
        "  res=np.zeros((len(X),n_cluster)) # matrix of length of data x number of clusters\n",
        "  # res.shape\n",
        "  # Calculating the r matrix\n",
        "  for n in range(len(X)):\n",
        "    for k in range(n_cluster):\n",
        "          # print(k)\n",
        "          res[n][k] = pi[k] * multivariate_normal(X[n], mean_vector[k], cov[k])\n",
        "          res[n][k] /= sum([pi[j]*multivariate_normal(X[n], mean_vector[j], cov[j]) for j in range(n_cluster)])\n",
        "  return res"
      ],
      "execution_count": 256,
      "outputs": []
    },
    {
      "cell_type": "code",
      "metadata": {
        "id": "fiyIZBDFEjkr"
      },
      "source": [
        "def predict(X,mean_vector,n_cluster,cov):\n",
        "  probas = []\n",
        "  for n in range(len(X)):\n",
        "      probas.append([multivariate_normal(X[n], mean_vector[k], cov[k])\n",
        "                      for k in range(n_cluster)])\n",
        "  cluster = []\n",
        "  for proba in probas:\n",
        "      # print(proba)\n",
        "      cluster.append(proba.index(max(proba)))\n",
        "  return cluster"
      ],
      "execution_count": 257,
      "outputs": []
    },
    {
      "cell_type": "code",
      "metadata": {
        "id": "0GbXm2iZxugf"
      },
      "source": [
        "n_cluster=3\n",
        "max_iter=5\n",
        "new_X = np.array_split(X, n_cluster)\n",
        "# step 1: initialize mean and variance and pi\n",
        "mean_vector = [np.mean(x, axis=0) for x in new_X]\n",
        "cov = [np.cov(x.T) for x in new_X]\n",
        "pi = [1/n_cluster for comp in range(n_cluster)]\n",
        "for i in range(max_iter): # iterate until convergence\n",
        "      # step 2: calculate the responsibility of each point E step\n",
        "      res=resposibility(X,n_cluster,pi,mean_vector,cov)\n",
        "      N = np.sum(res, axis=0)\n",
        "      # step 3: M algorithm\n",
        "      mean_vector = np.zeros((n_cluster, len(X[0])))\n",
        "      # updating the mean \n",
        "      for k in range(n_cluster):\n",
        "            for n in range(len(X)):\n",
        "                mean_vector[k] += res[n][k] * X[n] # responsibilty * mean\n",
        "      mean_vector = [1/N[k]*mean_vector[k] for k in range(n_cluster)]\n",
        "      # updating the covariance\n",
        "      for k in range(n_cluster):\n",
        "        cov[k] = np.cov(X.T, aweights=(res[:, k]), ddof=0)\n",
        "      cov=[1/N[k]*cov[k] for k in range(n_cluster)]\n",
        "      # update the pi\n",
        "      pi = [N[k]/len(X) for k in range(n_cluster)]\n",
        "\n",
        "\n",
        "\n",
        "\n",
        "\n",
        "\n"
      ],
      "execution_count": 258,
      "outputs": []
    },
    {
      "cell_type": "code",
      "metadata": {
        "id": "TzeSxQW3FD7S"
      },
      "source": [
        "C=predict(X,mean_vector,n_cluster,cov)"
      ],
      "execution_count": 259,
      "outputs": []
    },
    {
      "cell_type": "code",
      "metadata": {
        "id": "PXxS6SvfGcKD"
      },
      "source": [
        "# C"
      ],
      "execution_count": 260,
      "outputs": []
    },
    {
      "cell_type": "code",
      "metadata": {
        "id": "SJsUvfZhFNZV",
        "outputId": "c1d508e0-b0aa-4b41-8588-3a3e89e7fa76",
        "colab": {
          "base_uri": "https://localhost:8080/",
          "height": 295
        }
      },
      "source": [
        "\n",
        "sns.scatterplot(x='x',y='y',data=dataset7,hue=C).set_title(\"Testing the GMM ALGORITHM\");"
      ],
      "execution_count": 261,
      "outputs": [
        {
          "output_type": "display_data",
          "data": {
            "image/png": "[encoded data removed]",
            "text/plain": [
              "<Figure size 432x288 with 1 Axes>"
            ]
          },
          "metadata": {
            "needs_background": "light"
          }
        }
      ]
    }
  ]
}