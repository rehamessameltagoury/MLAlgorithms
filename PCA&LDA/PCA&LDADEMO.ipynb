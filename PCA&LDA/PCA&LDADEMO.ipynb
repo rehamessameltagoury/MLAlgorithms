{
  "nbformat": 4,
  "nbformat_minor": 0,
  "metadata": {
    "colab": {
      "name": "PCA&LDADEMO.ipynb",
      "provenance": [],
      "collapsed_sections": []
    },
    "kernelspec": {
      "name": "python3",
      "display_name": "Python 3"
    },
    "language_info": {
      "name": "python"
    }
  },
  "cells": [
    {
      "cell_type": "markdown",
      "metadata": {
        "id": "Pm6kMPThmcmJ"
      },
      "source": [
        "PCA is an unsupervised statistical method."
      ]
    },
    {
      "cell_type": "code",
      "metadata": {
        "id": "0nPQ9ePJmton"
      },
      "source": [
        "import numpy as np\n",
        "import matplotlib.pyplot as plt\n",
        "import seaborn as sns\n",
        "%matplotlib inline"
      ],
      "execution_count": null,
      "outputs": []
    },
    {
      "cell_type": "code",
      "metadata": {
        "colab": {
          "base_uri": "https://localhost:8080/",
          "height": 295
        },
        "id": "gyElmY9SkPsW",
        "outputId": "222c9629-229d-4e44-9f1c-3bb8dc1aa5ca"
      },
      "source": [
        "X1=[2,8,1,4,22,15,25,29,4,2]\n",
        "X2=[3,6,2,6,18,16,20,23,6,4]\n",
        "plt.scatter(X1,X2)\n",
        "plt.title(\"Points x,y\")\n",
        "plt.xlabel(\"X1\")\n",
        "plt.ylabel(\"X2\");"
      ],
      "execution_count": null,
      "outputs": [
        {
          "output_type": "display_data",
          "data": {
            "image/png": "[encoded data removed]",
            "text/plain": [
              "<Figure size 432x288 with 1 Axes>"
            ]
          },
          "metadata": {
            "needs_background": "light"
          }
        }
      ]
    },
    {
      "cell_type": "code",
      "metadata": {
        "colab": {
          "base_uri": "https://localhost:8080/"
        },
        "id": "06LFMxSpm3EL",
        "outputId": "63f5f5b9-c556-42cd-906f-2e01ca80a20a"
      },
      "source": [
        "#Generate a dummy dataset.\n",
        "X = np.random.randint(10,50,100).reshape(20,5) \n",
        "print(X)\n"
      ],
      "execution_count": null,
      "outputs": [
        {
          "output_type": "stream",
          "name": "stdout",
          "text": [
            "[[47 18 23 44 29]\n",
            " [42 20 26 47 20]\n",
            " [27 23 12 10 41]\n",
            " [35 39 12 45 22]\n",
            " [49 42 29 26 35]\n",
            " [19 49 31 41 33]\n",
            " [31 29 49 12 31]\n",
            " [16 19 11 22 28]\n",
            " [16 16 44 40 41]\n",
            " [43 26 15 22 33]\n",
            " [25 37 46 34 28]\n",
            " [12 11 13 22 25]\n",
            " [10 11 40 27 49]\n",
            " [48 18 25 28 25]\n",
            " [17 23 15 42 46]\n",
            " [38 22 45 42 30]\n",
            " [48 37 46 16 17]\n",
            " [49 28 23 45 16]\n",
            " [16 37 20 34 13]\n",
            " [15 14 41 29 48]]\n"
          ]
        }
      ]
    },
    {
      "cell_type": "code",
      "metadata": {
        "id": "YJTFi91IrNnx"
      },
      "source": [
        "def PCA(n_componets,X):\n",
        "  # Sbtract the mean from the data to make it centeric\n",
        "  X_centered = X - np.mean(X , axis = 0)\n",
        "  # get the covariance matrix\n",
        "  cov_mat = np.cov(X_centered , rowvar = False)\n",
        "  # get eigenvalues and eigenvectors\n",
        "  eigen_values , eigen_vectors = np.linalg.eigh(cov_mat)\n",
        "  # sort the eigen vectors to get hte greatest ingo at the begining\n",
        "  sorted_index = np.argsort(eigen_values)[::-1]\n",
        "  sorted_eigenvalue = eigen_values[sorted_index]\n",
        "  sorted_eigenvectors = eigen_vectors[:,sorted_index]\n",
        "  # select a subset of data according to n_componets\n",
        "  eigenvector_subset = sorted_eigenvectors[:,0:n_componets]\n",
        "  # Transform the data\n",
        "  X_reduced = np.dot(eigenvector_subset.transpose(),X_centered.transpose()).transpose()\n",
        "  return X_reduced\n"
      ],
      "execution_count": null,
      "outputs": []
    },
    {
      "cell_type": "code",
      "metadata": {
        "colab": {
          "base_uri": "https://localhost:8080/"
        },
        "id": "3k8zqFqYvM41",
        "outputId": "8b7920fe-8017-4dc8-cd4d-3c1e39cd517d"
      },
      "source": [
        "PCA(2,X)"
      ],
      "execution_count": null,
      "outputs": [
        {
          "output_type": "execute_result",
          "data": {
            "text/plain": [
              "array([[-1.38596615e+01, -5.30187432e+00],\n",
              "       [-1.52633238e+01, -4.35948091e+00],\n",
              "       [ 1.12448205e+01, -1.27864021e+01],\n",
              "       [-1.64251726e+01, -1.59706566e+01],\n",
              "       [-1.71659892e+01,  6.73916517e+00],\n",
              "       [ 3.43793148e-03,  3.13414634e+00],\n",
              "       [ 3.95535425e+00,  2.28261717e+01],\n",
              "       [ 1.26895025e+01, -1.89188658e+01],\n",
              "       [ 1.91597415e+01,  1.20803842e+01],\n",
              "       [-8.12374048e+00, -9.52354397e+00],\n",
              "       [-1.47608810e-01,  1.71422550e+01],\n",
              "       [ 1.74050188e+01, -1.89914262e+01],\n",
              "       [ 3.15706038e+01,  9.19194352e+00],\n",
              "       [-1.32680999e+01, -1.85987498e+00],\n",
              "       [ 1.54513026e+01, -1.44723909e+01],\n",
              "       [-5.59766882e+00,  1.54798089e+01],\n",
              "       [-1.97602242e+01,  2.12745060e+01],\n",
              "       [-2.53154016e+01, -5.44811492e+00],\n",
              "       [-2.38692357e+00, -1.11655835e+01],\n",
              "       [ 2.58340325e+01,  1.09298333e+01]])"
            ]
          },
          "metadata": {},
          "execution_count": 18
        }
      ]
    },
    {
      "cell_type": "markdown",
      "metadata": {
        "id": "4eFDnt9nwLAu"
      },
      "source": [
        "# Test the code on IRIS Dataset"
      ]
    },
    {
      "cell_type": "code",
      "metadata": {
        "id": "SDlrqRAjvi6e"
      },
      "source": [
        "import pandas as pd\n",
        " \n",
        "#Get the IRIS dataset\n",
        "url = \"https://archive.ics.uci.edu/ml/machine-learning-databases/iris/iris.data\"\n",
        "data = pd.read_csv(url, names=['sepal length','sepal width','petal length','petal width','target'])"
      ],
      "execution_count": null,
      "outputs": []
    },
    {
      "cell_type": "code",
      "metadata": {
        "colab": {
          "base_uri": "https://localhost:8080/",
          "height": 663
        },
        "id": "nVtrvmcZwW_q",
        "outputId": "7347afae-a1e7-4d95-e4cb-bdbf81ad6a2a"
      },
      "source": [
        "data.head(20)"
      ],
      "execution_count": null,
      "outputs": [
        {
          "output_type": "execute_result",
          "data": {
            "text/html": [
              "<div>\n",
              "<style scoped>\n",
              "    .dataframe tbody tr th:only-of-type {\n",
              "        vertical-align: middle;\n",
              "    }\n",
              "\n",
              "    .dataframe tbody tr th {\n",
              "        vertical-align: top;\n",
              "    }\n",
              "\n",
              "    .dataframe thead th {\n",
              "        text-align: right;\n",
              "    }\n",
              "</style>\n",
              "<table border=\"1\" class=\"dataframe\">\n",
              "  <thead>\n",
              "    <tr style=\"text-align: right;\">\n",
              "      <th></th>\n",
              "      <th>sepal length</th>\n",
              "      <th>sepal width</th>\n",
              "      <th>petal length</th>\n",
              "      <th>petal width</th>\n",
              "      <th>target</th>\n",
              "    </tr>\n",
              "  </thead>\n",
              "  <tbody>\n",
              "    <tr>\n",
              "      <th>0</th>\n",
              "      <td>5.1</td>\n",
              "      <td>3.5</td>\n",
              "      <td>1.4</td>\n",
              "      <td>0.2</td>\n",
              "      <td>Iris-setosa</td>\n",
              "    </tr>\n",
              "    <tr>\n",
              "      <th>1</th>\n",
              "      <td>4.9</td>\n",
              "      <td>3.0</td>\n",
              "      <td>1.4</td>\n",
              "      <td>0.2</td>\n",
              "      <td>Iris-setosa</td>\n",
              "    </tr>\n",
              "    <tr>\n",
              "      <th>2</th>\n",
              "      <td>4.7</td>\n",
              "      <td>3.2</td>\n",
              "      <td>1.3</td>\n",
              "      <td>0.2</td>\n",
              "      <td>Iris-setosa</td>\n",
              "    </tr>\n",
              "    <tr>\n",
              "      <th>3</th>\n",
              "      <td>4.6</td>\n",
              "      <td>3.1</td>\n",
              "      <td>1.5</td>\n",
              "      <td>0.2</td>\n",
              "      <td>Iris-setosa</td>\n",
              "    </tr>\n",
              "    <tr>\n",
              "      <th>4</th>\n",
              "      <td>5.0</td>\n",
              "      <td>3.6</td>\n",
              "      <td>1.4</td>\n",
              "      <td>0.2</td>\n",
              "      <td>Iris-setosa</td>\n",
              "    </tr>\n",
              "    <tr>\n",
              "      <th>5</th>\n",
              "      <td>5.4</td>\n",
              "      <td>3.9</td>\n",
              "      <td>1.7</td>\n",
              "      <td>0.4</td>\n",
              "      <td>Iris-setosa</td>\n",
              "    </tr>\n",
              "    <tr>\n",
              "      <th>6</th>\n",
              "      <td>4.6</td>\n",
              "      <td>3.4</td>\n",
              "      <td>1.4</td>\n",
              "      <td>0.3</td>\n",
              "      <td>Iris-setosa</td>\n",
              "    </tr>\n",
              "    <tr>\n",
              "      <th>7</th>\n",
              "      <td>5.0</td>\n",
              "      <td>3.4</td>\n",
              "      <td>1.5</td>\n",
              "      <td>0.2</td>\n",
              "      <td>Iris-setosa</td>\n",
              "    </tr>\n",
              "    <tr>\n",
              "      <th>8</th>\n",
              "      <td>4.4</td>\n",
              "      <td>2.9</td>\n",
              "      <td>1.4</td>\n",
              "      <td>0.2</td>\n",
              "      <td>Iris-setosa</td>\n",
              "    </tr>\n",
              "    <tr>\n",
              "      <th>9</th>\n",
              "      <td>4.9</td>\n",
              "      <td>3.1</td>\n",
              "      <td>1.5</td>\n",
              "      <td>0.1</td>\n",
              "      <td>Iris-setosa</td>\n",
              "    </tr>\n",
              "    <tr>\n",
              "      <th>10</th>\n",
              "      <td>5.4</td>\n",
              "      <td>3.7</td>\n",
              "      <td>1.5</td>\n",
              "      <td>0.2</td>\n",
              "      <td>Iris-setosa</td>\n",
              "    </tr>\n",
              "    <tr>\n",
              "      <th>11</th>\n",
              "      <td>4.8</td>\n",
              "      <td>3.4</td>\n",
              "      <td>1.6</td>\n",
              "      <td>0.2</td>\n",
              "      <td>Iris-setosa</td>\n",
              "    </tr>\n",
              "    <tr>\n",
              "      <th>12</th>\n",
              "      <td>4.8</td>\n",
              "      <td>3.0</td>\n",
              "      <td>1.4</td>\n",
              "      <td>0.1</td>\n",
              "      <td>Iris-setosa</td>\n",
              "    </tr>\n",
              "    <tr>\n",
              "      <th>13</th>\n",
              "      <td>4.3</td>\n",
              "      <td>3.0</td>\n",
              "      <td>1.1</td>\n",
              "      <td>0.1</td>\n",
              "      <td>Iris-setosa</td>\n",
              "    </tr>\n",
              "    <tr>\n",
              "      <th>14</th>\n",
              "      <td>5.8</td>\n",
              "      <td>4.0</td>\n",
              "      <td>1.2</td>\n",
              "      <td>0.2</td>\n",
              "      <td>Iris-setosa</td>\n",
              "    </tr>\n",
              "    <tr>\n",
              "      <th>15</th>\n",
              "      <td>5.7</td>\n",
              "      <td>4.4</td>\n",
              "      <td>1.5</td>\n",
              "      <td>0.4</td>\n",
              "      <td>Iris-setosa</td>\n",
              "    </tr>\n",
              "    <tr>\n",
              "      <th>16</th>\n",
              "      <td>5.4</td>\n",
              "      <td>3.9</td>\n",
              "      <td>1.3</td>\n",
              "      <td>0.4</td>\n",
              "      <td>Iris-setosa</td>\n",
              "    </tr>\n",
              "    <tr>\n",
              "      <th>17</th>\n",
              "      <td>5.1</td>\n",
              "      <td>3.5</td>\n",
              "      <td>1.4</td>\n",
              "      <td>0.3</td>\n",
              "      <td>Iris-setosa</td>\n",
              "    </tr>\n",
              "    <tr>\n",
              "      <th>18</th>\n",
              "      <td>5.7</td>\n",
              "      <td>3.8</td>\n",
              "      <td>1.7</td>\n",
              "      <td>0.3</td>\n",
              "      <td>Iris-setosa</td>\n",
              "    </tr>\n",
              "    <tr>\n",
              "      <th>19</th>\n",
              "      <td>5.1</td>\n",
              "      <td>3.8</td>\n",
              "      <td>1.5</td>\n",
              "      <td>0.3</td>\n",
              "      <td>Iris-setosa</td>\n",
              "    </tr>\n",
              "  </tbody>\n",
              "</table>\n",
              "</div>"
            ],
            "text/plain": [
              "    sepal length  sepal width  petal length  petal width       target\n",
              "0            5.1          3.5           1.4          0.2  Iris-setosa\n",
              "1            4.9          3.0           1.4          0.2  Iris-setosa\n",
              "2            4.7          3.2           1.3          0.2  Iris-setosa\n",
              "3            4.6          3.1           1.5          0.2  Iris-setosa\n",
              "4            5.0          3.6           1.4          0.2  Iris-setosa\n",
              "5            5.4          3.9           1.7          0.4  Iris-setosa\n",
              "6            4.6          3.4           1.4          0.3  Iris-setosa\n",
              "7            5.0          3.4           1.5          0.2  Iris-setosa\n",
              "8            4.4          2.9           1.4          0.2  Iris-setosa\n",
              "9            4.9          3.1           1.5          0.1  Iris-setosa\n",
              "10           5.4          3.7           1.5          0.2  Iris-setosa\n",
              "11           4.8          3.4           1.6          0.2  Iris-setosa\n",
              "12           4.8          3.0           1.4          0.1  Iris-setosa\n",
              "13           4.3          3.0           1.1          0.1  Iris-setosa\n",
              "14           5.8          4.0           1.2          0.2  Iris-setosa\n",
              "15           5.7          4.4           1.5          0.4  Iris-setosa\n",
              "16           5.4          3.9           1.3          0.4  Iris-setosa\n",
              "17           5.1          3.5           1.4          0.3  Iris-setosa\n",
              "18           5.7          3.8           1.7          0.3  Iris-setosa\n",
              "19           5.1          3.8           1.5          0.3  Iris-setosa"
            ]
          },
          "metadata": {},
          "execution_count": 20
        }
      ]
    },
    {
      "cell_type": "code",
      "metadata": {
        "colab": {
          "base_uri": "https://localhost:8080/",
          "height": 294
        },
        "id": "XTLpJiKRwYKt",
        "outputId": "632b9ede-49e6-461f-b048-0d46d6616914"
      },
      "source": [
        "data.describe()"
      ],
      "execution_count": null,
      "outputs": [
        {
          "output_type": "execute_result",
          "data": {
            "text/html": [
              "<div>\n",
              "<style scoped>\n",
              "    .dataframe tbody tr th:only-of-type {\n",
              "        vertical-align: middle;\n",
              "    }\n",
              "\n",
              "    .dataframe tbody tr th {\n",
              "        vertical-align: top;\n",
              "    }\n",
              "\n",
              "    .dataframe thead th {\n",
              "        text-align: right;\n",
              "    }\n",
              "</style>\n",
              "<table border=\"1\" class=\"dataframe\">\n",
              "  <thead>\n",
              "    <tr style=\"text-align: right;\">\n",
              "      <th></th>\n",
              "      <th>sepal length</th>\n",
              "      <th>sepal width</th>\n",
              "      <th>petal length</th>\n",
              "      <th>petal width</th>\n",
              "    </tr>\n",
              "  </thead>\n",
              "  <tbody>\n",
              "    <tr>\n",
              "      <th>count</th>\n",
              "      <td>150.000000</td>\n",
              "      <td>150.000000</td>\n",
              "      <td>150.000000</td>\n",
              "      <td>150.000000</td>\n",
              "    </tr>\n",
              "    <tr>\n",
              "      <th>mean</th>\n",
              "      <td>5.843333</td>\n",
              "      <td>3.054000</td>\n",
              "      <td>3.758667</td>\n",
              "      <td>1.198667</td>\n",
              "    </tr>\n",
              "    <tr>\n",
              "      <th>std</th>\n",
              "      <td>0.828066</td>\n",
              "      <td>0.433594</td>\n",
              "      <td>1.764420</td>\n",
              "      <td>0.763161</td>\n",
              "    </tr>\n",
              "    <tr>\n",
              "      <th>min</th>\n",
              "      <td>4.300000</td>\n",
              "      <td>2.000000</td>\n",
              "      <td>1.000000</td>\n",
              "      <td>0.100000</td>\n",
              "    </tr>\n",
              "    <tr>\n",
              "      <th>25%</th>\n",
              "      <td>5.100000</td>\n",
              "      <td>2.800000</td>\n",
              "      <td>1.600000</td>\n",
              "      <td>0.300000</td>\n",
              "    </tr>\n",
              "    <tr>\n",
              "      <th>50%</th>\n",
              "      <td>5.800000</td>\n",
              "      <td>3.000000</td>\n",
              "      <td>4.350000</td>\n",
              "      <td>1.300000</td>\n",
              "    </tr>\n",
              "    <tr>\n",
              "      <th>75%</th>\n",
              "      <td>6.400000</td>\n",
              "      <td>3.300000</td>\n",
              "      <td>5.100000</td>\n",
              "      <td>1.800000</td>\n",
              "    </tr>\n",
              "    <tr>\n",
              "      <th>max</th>\n",
              "      <td>7.900000</td>\n",
              "      <td>4.400000</td>\n",
              "      <td>6.900000</td>\n",
              "      <td>2.500000</td>\n",
              "    </tr>\n",
              "  </tbody>\n",
              "</table>\n",
              "</div>"
            ],
            "text/plain": [
              "       sepal length  sepal width  petal length  petal width\n",
              "count    150.000000   150.000000    150.000000   150.000000\n",
              "mean       5.843333     3.054000      3.758667     1.198667\n",
              "std        0.828066     0.433594      1.764420     0.763161\n",
              "min        4.300000     2.000000      1.000000     0.100000\n",
              "25%        5.100000     2.800000      1.600000     0.300000\n",
              "50%        5.800000     3.000000      4.350000     1.300000\n",
              "75%        6.400000     3.300000      5.100000     1.800000\n",
              "max        7.900000     4.400000      6.900000     2.500000"
            ]
          },
          "metadata": {},
          "execution_count": 21
        }
      ]
    },
    {
      "cell_type": "code",
      "metadata": {
        "id": "cv36of4kwdYN"
      },
      "source": [
        "#prepare the data\n",
        "x = data.iloc[:,0:4]"
      ],
      "execution_count": null,
      "outputs": []
    },
    {
      "cell_type": "code",
      "metadata": {
        "colab": {
          "base_uri": "https://localhost:8080/",
          "height": 415
        },
        "id": "NC3UpR2jwiF6",
        "outputId": "572363c4-68e9-4019-9791-0f6a651d23bf"
      },
      "source": [
        "# taking the target out\n",
        "target=data.iloc[:,[False,False,False,False,True]]\n",
        "target"
      ],
      "execution_count": null,
      "outputs": [
        {
          "output_type": "execute_result",
          "data": {
            "text/html": [
              "<div>\n",
              "<style scoped>\n",
              "    .dataframe tbody tr th:only-of-type {\n",
              "        vertical-align: middle;\n",
              "    }\n",
              "\n",
              "    .dataframe tbody tr th {\n",
              "        vertical-align: top;\n",
              "    }\n",
              "\n",
              "    .dataframe thead th {\n",
              "        text-align: right;\n",
              "    }\n",
              "</style>\n",
              "<table border=\"1\" class=\"dataframe\">\n",
              "  <thead>\n",
              "    <tr style=\"text-align: right;\">\n",
              "      <th></th>\n",
              "      <th>target</th>\n",
              "    </tr>\n",
              "  </thead>\n",
              "  <tbody>\n",
              "    <tr>\n",
              "      <th>0</th>\n",
              "      <td>Iris-setosa</td>\n",
              "    </tr>\n",
              "    <tr>\n",
              "      <th>1</th>\n",
              "      <td>Iris-setosa</td>\n",
              "    </tr>\n",
              "    <tr>\n",
              "      <th>2</th>\n",
              "      <td>Iris-setosa</td>\n",
              "    </tr>\n",
              "    <tr>\n",
              "      <th>3</th>\n",
              "      <td>Iris-setosa</td>\n",
              "    </tr>\n",
              "    <tr>\n",
              "      <th>4</th>\n",
              "      <td>Iris-setosa</td>\n",
              "    </tr>\n",
              "    <tr>\n",
              "      <th>...</th>\n",
              "      <td>...</td>\n",
              "    </tr>\n",
              "    <tr>\n",
              "      <th>145</th>\n",
              "      <td>Iris-virginica</td>\n",
              "    </tr>\n",
              "    <tr>\n",
              "      <th>146</th>\n",
              "      <td>Iris-virginica</td>\n",
              "    </tr>\n",
              "    <tr>\n",
              "      <th>147</th>\n",
              "      <td>Iris-virginica</td>\n",
              "    </tr>\n",
              "    <tr>\n",
              "      <th>148</th>\n",
              "      <td>Iris-virginica</td>\n",
              "    </tr>\n",
              "    <tr>\n",
              "      <th>149</th>\n",
              "      <td>Iris-virginica</td>\n",
              "    </tr>\n",
              "  </tbody>\n",
              "</table>\n",
              "<p>150 rows × 1 columns</p>\n",
              "</div>"
            ],
            "text/plain": [
              "             target\n",
              "0       Iris-setosa\n",
              "1       Iris-setosa\n",
              "2       Iris-setosa\n",
              "3       Iris-setosa\n",
              "4       Iris-setosa\n",
              "..              ...\n",
              "145  Iris-virginica\n",
              "146  Iris-virginica\n",
              "147  Iris-virginica\n",
              "148  Iris-virginica\n",
              "149  Iris-virginica\n",
              "\n",
              "[150 rows x 1 columns]"
            ]
          },
          "metadata": {},
          "execution_count": 23
        }
      ]
    },
    {
      "cell_type": "code",
      "metadata": {
        "colab": {
          "base_uri": "https://localhost:8080/"
        },
        "id": "ml2nbDPEwlrX",
        "outputId": "229e2e72-a7fd-437b-f0b1-64d8c71423b8"
      },
      "source": [
        "mat_reduced = PCA(2,x)\n",
        "mat_reduced"
      ],
      "execution_count": null,
      "outputs": [
        {
          "output_type": "execute_result",
          "data": {
            "text/plain": [
              "array([[ 2.68420713,  0.32660731],\n",
              "       [ 2.71539062, -0.16955685],\n",
              "       [ 2.88981954, -0.13734561],\n",
              "       [ 2.7464372 , -0.31112432],\n",
              "       [ 2.72859298,  0.33392456],\n",
              "       [ 2.27989736,  0.74778271],\n",
              "       [ 2.82089068, -0.08210451],\n",
              "       [ 2.62648199,  0.17040535],\n",
              "       [ 2.88795857, -0.57079803],\n",
              "       [ 2.67384469, -0.1066917 ],\n",
              "       [ 2.50652679,  0.65193501],\n",
              "       [ 2.61314272,  0.02152063],\n",
              "       [ 2.78743398, -0.22774019],\n",
              "       [ 3.22520045, -0.50327991],\n",
              "       [ 2.64354322,  1.1861949 ],\n",
              "       [ 2.38386932,  1.34475434],\n",
              "       [ 2.6225262 ,  0.81808967],\n",
              "       [ 2.64832273,  0.31913667],\n",
              "       [ 2.19907796,  0.87924409],\n",
              "       [ 2.58734619,  0.52047364],\n",
              "       [ 2.3105317 ,  0.39786782],\n",
              "       [ 2.54323491,  0.44003175],\n",
              "       [ 3.21585769,  0.14161557],\n",
              "       [ 2.30312854,  0.10552268],\n",
              "       [ 2.35617109, -0.03120959],\n",
              "       [ 2.50791723, -0.13905634],\n",
              "       [ 2.469056  ,  0.13788731],\n",
              "       [ 2.56239095,  0.37468456],\n",
              "       [ 2.63982127,  0.31929007],\n",
              "       [ 2.63284791, -0.19007583],\n",
              "       [ 2.58846205, -0.19739308],\n",
              "       [ 2.41007734,  0.41808001],\n",
              "       [ 2.64763667,  0.81998263],\n",
              "       [ 2.59715948,  1.10002193],\n",
              "       [ 2.67384469, -0.1066917 ],\n",
              "       [ 2.86699985,  0.0771931 ],\n",
              "       [ 2.62522846,  0.60680001],\n",
              "       [ 2.67384469, -0.1066917 ],\n",
              "       [ 2.98184266, -0.48025005],\n",
              "       [ 2.59032303,  0.23605934],\n",
              "       [ 2.77013891,  0.27105942],\n",
              "       [ 2.85221108, -0.93286537],\n",
              "       [ 2.99829644, -0.33430757],\n",
              "       [ 2.4055141 ,  0.19591726],\n",
              "       [ 2.20883295,  0.44269603],\n",
              "       [ 2.71566519, -0.24268148],\n",
              "       [ 2.53757337,  0.51036755],\n",
              "       [ 2.8403213 , -0.22057634],\n",
              "       [ 2.54268576,  0.58628103],\n",
              "       [ 2.70391231,  0.11501085],\n",
              "       [-1.28479459,  0.68543919],\n",
              "       [-0.93241075,  0.31919809],\n",
              "       [-1.46406132,  0.50418983],\n",
              "       [-0.18096721, -0.82560394],\n",
              "       [-1.08713449,  0.07539039],\n",
              "       [-0.64043675, -0.41732348],\n",
              "       [-1.09522371,  0.28389121],\n",
              "       [ 0.75146714, -1.00110751],\n",
              "       [-1.04329778,  0.22895691],\n",
              "       [ 0.01019007, -0.72057487],\n",
              "       [ 0.5110862 , -1.26249195],\n",
              "       [-0.51109806, -0.10228411],\n",
              "       [-0.26233576, -0.5478933 ],\n",
              "       [-0.98404455, -0.12436042],\n",
              "       [ 0.174864  , -0.25181557],\n",
              "       [-0.92757294,  0.46823621],\n",
              "       [-0.65959279, -0.35197629],\n",
              "       [-0.23454059, -0.33192183],\n",
              "       [-0.94236171, -0.54182226],\n",
              "       [-0.0432464 , -0.58148945],\n",
              "       [-1.11624072, -0.08421401],\n",
              "       [-0.35678657, -0.06682383],\n",
              "       [-1.29646885, -0.32756152],\n",
              "       [-0.92050265, -0.18239036],\n",
              "       [-0.71400821,  0.15037915],\n",
              "       [-0.89964086,  0.32961098],\n",
              "       [-1.33104142,  0.24466952],\n",
              "       [-1.55739627,  0.26739258],\n",
              "       [-0.81245555, -0.16233157],\n",
              "       [ 0.30733476, -0.36508661],\n",
              "       [ 0.07034289, -0.70253793],\n",
              "       [ 0.19188449, -0.67749054],\n",
              "       [-0.13499495, -0.31170964],\n",
              "       [-1.37873698, -0.42120514],\n",
              "       [-0.58727485, -0.48328427],\n",
              "       [-0.8072055 ,  0.19505396],\n",
              "       [-1.22042897,  0.40803534],\n",
              "       [-0.81286779, -0.370679  ],\n",
              "       [-0.24519516, -0.26672804],\n",
              "       [-0.16451343, -0.67966147],\n",
              "       [-0.46303099, -0.66952655],\n",
              "       [-0.89016045, -0.03381244],\n",
              "       [-0.22887905, -0.40225762],\n",
              "       [ 0.70708128, -1.00842476],\n",
              "       [-0.35553304, -0.50321849],\n",
              "       [-0.33112695, -0.21118014],\n",
              "       [-0.37523823, -0.29162202],\n",
              "       [-0.64169028,  0.01907118],\n",
              "       [ 0.90846333, -0.75156873],\n",
              "       [-0.29780791, -0.34701652],\n",
              "       [-2.53172698, -0.01184224],\n",
              "       [-1.41407223, -0.57492506],\n",
              "       [-2.61648461,  0.34193529],\n",
              "       [-1.97081495, -0.18112569],\n",
              "       [-2.34975798, -0.04188255],\n",
              "       [-3.39687992,  0.54716805],\n",
              "       [-0.51938325, -1.19135169],\n",
              "       [-2.9320051 ,  0.35237701],\n",
              "       [-2.31967279, -0.24554817],\n",
              "       [-2.91813423,  0.78038063],\n",
              "       [-1.66193495,  0.2420384 ],\n",
              "       [-1.80234045, -0.21615461],\n",
              "       [-2.16537886,  0.21528028],\n",
              "       [-1.34459422, -0.77641543],\n",
              "       [-1.5852673 , -0.53930705],\n",
              "       [-1.90474358,  0.11881899],\n",
              "       [-1.94924878,  0.04073026],\n",
              "       [-3.48876538,  1.17154454],\n",
              "       [-3.79468686,  0.25326557],\n",
              "       [-1.29832982, -0.76101394],\n",
              "       [-2.42816726,  0.37678197],\n",
              "       [-1.19809737, -0.60557896],\n",
              "       [-3.49926548,  0.45677347],\n",
              "       [-1.38766825, -0.20403099],\n",
              "       [-2.27585365,  0.33338653],\n",
              "       [-2.61419383,  0.55836695],\n",
              "       [-1.25762518, -0.179137  ],\n",
              "       [-1.29066965, -0.11642525],\n",
              "       [-2.12285398, -0.21085488],\n",
              "       [-2.3875644 ,  0.46251925],\n",
              "       [-2.84096093,  0.37274259],\n",
              "       [-3.2323429 ,  1.37052404],\n",
              "       [-2.15873837, -0.21832553],\n",
              "       [-1.4431026 , -0.14380129],\n",
              "       [-1.77964011, -0.50146479],\n",
              "       [-3.07652162,  0.68576444],\n",
              "       [-2.14498686,  0.13890661],\n",
              "       [-1.90486293,  0.04804751],\n",
              "       [-1.16885347, -0.1645025 ],\n",
              "       [-2.10765373,  0.37148225],\n",
              "       [-2.31430339,  0.18260885],\n",
              "       [-1.92245088,  0.40927118],\n",
              "       [-1.41407223, -0.57492506],\n",
              "       [-2.56332271,  0.2759745 ],\n",
              "       [-2.41939122,  0.30350394],\n",
              "       [-1.94401705,  0.18741522],\n",
              "       [-1.52566363, -0.37502085],\n",
              "       [-1.76404594,  0.07851919],\n",
              "       [-1.90162908,  0.11587675],\n",
              "       [-1.38966613, -0.28288671]])"
            ]
          },
          "metadata": {},
          "execution_count": 24
        }
      ]
    },
    {
      "cell_type": "code",
      "metadata": {
        "id": "NiyScp-7w3Vc"
      },
      "source": [
        "principal_df = pd.DataFrame(mat_reduced , columns = ['PC1','PC2'])"
      ],
      "execution_count": null,
      "outputs": []
    },
    {
      "cell_type": "code",
      "metadata": {
        "id": "OVGjj9Jaxep2"
      },
      "source": [
        "#Concat it with target variable to create a complete Dataset\n",
        "principal_df = pd.concat([principal_df , pd.DataFrame(target)] , axis = 1)"
      ],
      "execution_count": null,
      "outputs": []
    },
    {
      "cell_type": "code",
      "metadata": {
        "colab": {
          "base_uri": "https://localhost:8080/",
          "height": 415
        },
        "id": "Sx1x3rCyxiH3",
        "outputId": "7ff847a4-a437-4732-a7a9-6836af3e6d6d"
      },
      "source": [
        "principal_df"
      ],
      "execution_count": null,
      "outputs": [
        {
          "output_type": "execute_result",
          "data": {
            "text/html": [
              "<div>\n",
              "<style scoped>\n",
              "    .dataframe tbody tr th:only-of-type {\n",
              "        vertical-align: middle;\n",
              "    }\n",
              "\n",
              "    .dataframe tbody tr th {\n",
              "        vertical-align: top;\n",
              "    }\n",
              "\n",
              "    .dataframe thead th {\n",
              "        text-align: right;\n",
              "    }\n",
              "</style>\n",
              "<table border=\"1\" class=\"dataframe\">\n",
              "  <thead>\n",
              "    <tr style=\"text-align: right;\">\n",
              "      <th></th>\n",
              "      <th>PC1</th>\n",
              "      <th>PC2</th>\n",
              "      <th>target</th>\n",
              "    </tr>\n",
              "  </thead>\n",
              "  <tbody>\n",
              "    <tr>\n",
              "      <th>0</th>\n",
              "      <td>2.684207</td>\n",
              "      <td>0.326607</td>\n",
              "      <td>Iris-setosa</td>\n",
              "    </tr>\n",
              "    <tr>\n",
              "      <th>1</th>\n",
              "      <td>2.715391</td>\n",
              "      <td>-0.169557</td>\n",
              "      <td>Iris-setosa</td>\n",
              "    </tr>\n",
              "    <tr>\n",
              "      <th>2</th>\n",
              "      <td>2.889820</td>\n",
              "      <td>-0.137346</td>\n",
              "      <td>Iris-setosa</td>\n",
              "    </tr>\n",
              "    <tr>\n",
              "      <th>3</th>\n",
              "      <td>2.746437</td>\n",
              "      <td>-0.311124</td>\n",
              "      <td>Iris-setosa</td>\n",
              "    </tr>\n",
              "    <tr>\n",
              "      <th>4</th>\n",
              "      <td>2.728593</td>\n",
              "      <td>0.333925</td>\n",
              "      <td>Iris-setosa</td>\n",
              "    </tr>\n",
              "    <tr>\n",
              "      <th>...</th>\n",
              "      <td>...</td>\n",
              "      <td>...</td>\n",
              "      <td>...</td>\n",
              "    </tr>\n",
              "    <tr>\n",
              "      <th>145</th>\n",
              "      <td>-1.944017</td>\n",
              "      <td>0.187415</td>\n",
              "      <td>Iris-virginica</td>\n",
              "    </tr>\n",
              "    <tr>\n",
              "      <th>146</th>\n",
              "      <td>-1.525664</td>\n",
              "      <td>-0.375021</td>\n",
              "      <td>Iris-virginica</td>\n",
              "    </tr>\n",
              "    <tr>\n",
              "      <th>147</th>\n",
              "      <td>-1.764046</td>\n",
              "      <td>0.078519</td>\n",
              "      <td>Iris-virginica</td>\n",
              "    </tr>\n",
              "    <tr>\n",
              "      <th>148</th>\n",
              "      <td>-1.901629</td>\n",
              "      <td>0.115877</td>\n",
              "      <td>Iris-virginica</td>\n",
              "    </tr>\n",
              "    <tr>\n",
              "      <th>149</th>\n",
              "      <td>-1.389666</td>\n",
              "      <td>-0.282887</td>\n",
              "      <td>Iris-virginica</td>\n",
              "    </tr>\n",
              "  </tbody>\n",
              "</table>\n",
              "<p>150 rows × 3 columns</p>\n",
              "</div>"
            ],
            "text/plain": [
              "          PC1       PC2          target\n",
              "0    2.684207  0.326607     Iris-setosa\n",
              "1    2.715391 -0.169557     Iris-setosa\n",
              "2    2.889820 -0.137346     Iris-setosa\n",
              "3    2.746437 -0.311124     Iris-setosa\n",
              "4    2.728593  0.333925     Iris-setosa\n",
              "..        ...       ...             ...\n",
              "145 -1.944017  0.187415  Iris-virginica\n",
              "146 -1.525664 -0.375021  Iris-virginica\n",
              "147 -1.764046  0.078519  Iris-virginica\n",
              "148 -1.901629  0.115877  Iris-virginica\n",
              "149 -1.389666 -0.282887  Iris-virginica\n",
              "\n",
              "[150 rows x 3 columns]"
            ]
          },
          "metadata": {},
          "execution_count": 27
        }
      ]
    },
    {
      "cell_type": "code",
      "metadata": {
        "colab": {
          "base_uri": "https://localhost:8080/",
          "height": 392
        },
        "id": "pRzHDQKLxjK5",
        "outputId": "577fb3a0-0e47-4979-be8a-60711a79cc39"
      },
      "source": [
        "\n",
        "plt.figure(figsize = (6,6))\n",
        "sns.scatterplot(data = principal_df , x = 'PC1',y = 'PC2' , hue = 'target' , s = 60 , palette= 'icefire');\n"
      ],
      "execution_count": null,
      "outputs": [
        {
          "output_type": "display_data",
          "data": {
            "image/png": "[encoded data removed]",
            "text/plain": [
              "<Figure size 432x432 with 1 Axes>"
            ]
          },
          "metadata": {
            "needs_background": "light"
          }
        }
      ]
    },
    {
      "cell_type": "markdown",
      "metadata": {
        "id": "piWPVlniyL42"
      },
      "source": [
        "# LDA"
      ]
    },
    {
      "cell_type": "markdown",
      "metadata": {
        "id": "YIxo4JIojTXb"
      },
      "source": [
        "* Minimize the Inter-Class Variability: Inter-class variability refers to including as many similar points as possible in one class. This ensures less number of misclassifications.\n",
        "* Maximize the Distance Between the Mean of Classes: The classes’ mean is placed as far as possible to ensure high confidence during prediction."
      ]
    },
    {
      "cell_type": "code",
      "metadata": {
        "id": "NXDDVeeJmdwI"
      },
      "source": [
        "import numpy as np\n",
        "import matplotlib.pyplot as plt\n",
        "from sklearn.model_selection import train_test_split\n",
        "from sklearn.datasets import load_iris"
      ],
      "execution_count": null,
      "outputs": []
    },
    {
      "cell_type": "code",
      "metadata": {
        "id": "G2nYDsMAyLc2"
      },
      "source": [
        "class LDA():\n",
        "  '''\n",
        "   __init__: In the __init__ method, we initialize the number of components\n",
        "   desired in the final output and an attribute to store the eigenvectors.\n",
        "   def transform: We’ll consider Fischer’s score to reduce the dimensions of the input data.\n",
        "   The Fischer score is computed using covariance matrices. The formula mentioned above is \n",
        "   limited to two dimensions. We’ll be coding a multi-dimensional solution. \n",
        "   Therefore, we’ll use the covariance matrices.\n",
        "   The matrices scatter_t, scatter_b, and scatter_w are the covariance matrices. \n",
        "   scatter_w matrix denotes the intra-class covariance and scatter_b is the inter-class covariance matrix.\n",
        "   scatter_t covariance matrix represents a temporary matrix that’s used to compute the scatter_b matrix.\n",
        "   '''\n",
        "  def __init__(self,n_componets):\n",
        "    self.n_componets=n_componets\n",
        "    self.eigenvectors=None\n",
        "  def transform(self,X,y):\n",
        "    height,width=X.shape # getting the shape of data\n",
        "    unique_classes=np.unique(y)  # removing redundant classes\n",
        "    number_classes=len(unique_classes)\n",
        "    #  creating the temporary matrix\n",
        "    scatter_t = np.cov(X.T)*(height - 1)\n",
        "    #  creating scatter w matrix\n",
        "    scatter_w = 0\n",
        "    for i in range(number_classes):\n",
        "        class_items = np.flatnonzero(y == unique_classes[i]) #Return indices that are non-zero in the flattened version of a.\n",
        "        scatter_w = scatter_w + np.cov(X[class_items].T) * (len(class_items)-1)\n",
        "    scatter_b = scatter_t - scatter_w\n",
        "    _, eig_vectors = np.linalg.eigh(np.linalg.pinv(scatter_w).dot(scatter_b))\n",
        "    pc = X.dot(eig_vectors[:,::-1][:,:self.n_componets])\n",
        "    #  Plotting the reduced data if n_componets is 2\n",
        "    if self.n_componets == 2:\n",
        "          if y is None:\n",
        "              plt.scatter(pc[:,0],pc[:,1])\n",
        "          else:\n",
        "              colors = ['r','g','b']\n",
        "              labels = np.unique(y)\n",
        "              for color, label in zip(colors, labels):\n",
        "                  class_data = pc[np.flatnonzero(y==label)]\n",
        "                  plt.scatter(class_data[:,0],class_data[:,1],c=color)\n",
        "          plt.show()\n",
        "    return pc\n",
        "\n",
        "\n"
      ],
      "execution_count": null,
      "outputs": []
    },
    {
      "cell_type": "code",
      "metadata": {
        "colab": {
          "base_uri": "https://localhost:8080/",
          "height": 298
        },
        "id": "UgSY6qIlnXMY",
        "outputId": "91f03c2a-6aaa-4cb8-857d-b11ac4dbcd71"
      },
      "source": [
        "LDA_obj = LDA(n_componets=2)\n",
        "data = load_iris()\n",
        "X, y = data.data, data.target\n",
        "X_train, X_test, Y_train, Y_test = train_test_split(X, y, test_size=0.2)\n",
        "\n",
        "LDA_object = LDA(n_componets=2)\n",
        "X_train_modified = LDA_object.transform(X_train, Y_train)\n",
        "\n",
        "print(\"Original Data Size:\",X_train.shape, \"\\nModified Data Size:\", X_train_modified.shape)"
      ],
      "execution_count": null,
      "outputs": [
        {
          "output_type": "display_data",
          "data": {
            "image/png": "[encoded data removed]",
            "text/plain": [
              "<Figure size 432x288 with 1 Axes>"
            ]
          },
          "metadata": {
            "needs_background": "light"
          }
        },
        {
          "output_type": "stream",
          "name": "stdout",
          "text": [
            "Original Data Size: (120, 4) \n",
            "Modified Data Size: (120, 2)\n"
          ]
        }
      ]
    }
  ]
}