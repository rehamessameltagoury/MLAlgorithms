{
 "cells": [
  {
   "cell_type": "code",
   "execution_count": 3,
   "metadata": {
    "ExecuteTime": {
     "end_time": "2021-06-22T22:02:57.791459Z",
     "start_time": "2021-06-22T22:02:54.952925Z"
    }
   },
   "outputs": [],
   "source": [
    "# used for manipulating directory paths\n",
    "import os\n",
    "import numpy as np\n",
    "\n",
    "import matplotlib as plt\n",
    "\n",
    "from scipy.io import loadmat\n",
    "\n",
    "import time\n",
    "\n",
    "%matplotlib inline"
   ]
  },
  {
   "cell_type": "code",
   "execution_count": 4,
   "metadata": {
    "ExecuteTime": {
     "end_time": "2021-06-22T22:03:57.116169Z",
     "start_time": "2021-06-22T22:03:57.084729Z"
    }
   },
   "outputs": [],
   "source": [
    "def findClosestCentroids(X, centroids):\n",
    "    \"\"\"\n",
    "    Computes the centroid memberships for every example.\n",
    "    \n",
    "    Parameters\n",
    "    ----------\n",
    "    X : array_like\n",
    "        The dataset of size (m, n) where each row is a single example. \n",
    "        That is, we have m examples each of n dimensions.\n",
    "        \n",
    "    centroids : array_like\n",
    "        The k-means centroids of size (K, n). K is the number\n",
    "        of clusters, and n is the the data dimension.\n",
    "    \n",
    "    Returns\n",
    "    -------\n",
    "    idx : array_like\n",
    "        A vector of size (m, ) which holds the centroids assignment for each\n",
    "        example (row) in the dataset X.\n",
    "    \n",
    "    Instructions\n",
    "    ------------\n",
    "    Go over every example, find its closest centroid, and store\n",
    "    the index inside `idx` at the appropriate location.\n",
    "    Concretely, idx[i] should contain the index of the centroid\n",
    "    closest to example i. Hence, it should be a value in the \n",
    "    range 0..K-1\n",
    "\n",
    "    Note\n",
    "    ----\n",
    "    You can use a for-loop over the examples to compute this.\n",
    "    \"\"\"\n",
    "    # Set K\n",
    "    K = centroids.shape[0]\n",
    "\n",
    "    # You need to return the following variables correctly.\n",
    "    idx = np.zeros(X.shape[0], dtype=int)\n",
    "    idx = np.argmin( np.stack([np.abs(((X-centroids[i])**2).sum(axis=1)) for i in range(0,K)],axis=1),axis = 1)\n",
    "    return idx"
   ]
  },
  {
   "cell_type": "code",
   "execution_count": 5,
   "metadata": {
    "ExecuteTime": {
     "end_time": "2021-06-22T22:04:54.541892Z",
     "start_time": "2021-06-22T22:04:54.528927Z"
    }
   },
   "outputs": [],
   "source": [
    "def computeCentroids(X, idx, K):\n",
    "    \"\"\"\n",
    "    Returns the new centroids by computing the means of the data points\n",
    "    assigned to each centroid.\n",
    "    \n",
    "    Parameters\n",
    "    ----------\n",
    "    X : array_like\n",
    "        The datset where each row is a single data point. That is, it \n",
    "        is a matrix of size (m, n) where there are m datapoints each\n",
    "        having n dimensions. \n",
    "    \n",
    "    idx : array_like \n",
    "        A vector (size m) of centroid assignments (i.e. each entry in range [0 ... K-1])\n",
    "        for each example.\n",
    "    \n",
    "    K : int\n",
    "        Number of clusters\n",
    "    \n",
    "    Returns\n",
    "    -------\n",
    "    centroids : array_like\n",
    "        A matrix of size (K, n) where each row is the mean of the data \n",
    "        points assigned to it.\n",
    "    \n",
    "    Instructions\n",
    "    ------------\n",
    "    Go over every centroid and compute mean of all points that\n",
    "    belong to it. Concretely, the row vector centroids[i, :]\n",
    "    should contain the mean of the data points assigned to\n",
    "    cluster i.\n",
    "\n",
    "    Note:\n",
    "    -----\n",
    "    You can use a for-loop over the centroids to compute this.\n",
    "    \"\"\"\n",
    "    m, n = X.shape\n",
    "    centroids = np.zeros((K, n))\n",
    "    centroids = np.stack([X[idx==i].mean(axis= 0)for i in range(0,K)],axis= 0)\n",
    "    return centroids"
   ]
  },
  {
   "cell_type": "code",
   "execution_count": 6,
   "metadata": {
    "ExecuteTime": {
     "end_time": "2021-06-23T20:03:56.058441Z",
     "start_time": "2021-06-23T20:03:56.043480Z"
    }
   },
   "outputs": [],
   "source": [
    "def runkMeans(X, centroids, findClosestCentroids, computeCentroids,\n",
    "              max_iters=10):\n",
    "    \"\"\"\n",
    "    Runs the K-means algorithm.\n",
    "\n",
    "    Parameters\n",
    "    ----------\n",
    "    X : array_like\n",
    "        The data set of size (m, n). Each row of X is a single example of n dimensions. The\n",
    "        data set is a total of m examples.\n",
    "\n",
    "    centroids : array_like\n",
    "        Initial centroid location for each clusters. This is a matrix of size (K, n). K is the total\n",
    "        number of clusters and n is the dimensions of each data point.\n",
    "\n",
    "    findClosestCentroids : func\n",
    "        A function (implemented by student) reference which computes the cluster assignment for\n",
    "        each example.\n",
    "\n",
    "    computeCentroids : func\n",
    "        A function(implemented by student) reference which computes the centroid of each cluster.\n",
    "\n",
    "    max_iters : int, optional\n",
    "        Specifies the total number of interactions of K-Means to execute.\n",
    "\n",
    "\n",
    "    Returns\n",
    "    -------\n",
    "    centroids : array_like\n",
    "        A (K x n) matrix of the computed (updated) centroids.\n",
    "    idx : array_like\n",
    "        A vector of size (m,) for cluster assignment for each example in the dataset. Each entry\n",
    "        in idx is within the range [0 ... K-1].\n",
    "\n",
    " \n",
    "    \"\"\"\n",
    "    K = centroids.shape[0]\n",
    "    idx = None\n",
    "    idx_history = []\n",
    "    centroid_history = []\n",
    "\n",
    "    for i in range(max_iters):\n",
    "        idx = findClosestCentroids(X, centroids)\n",
    "\n",
    "        idx_history.append(idx)\n",
    "        centroid_history.append(centroids)\n",
    "\n",
    "        centroids = computeCentroids(X, idx, K)\n",
    "        \n",
    "\n",
    "    return centroids, idx, centroid_history,idx_history"
   ]
  },
  {
   "cell_type": "code",
   "execution_count": 13,
   "metadata": {
    "ExecuteTime": {
     "end_time": "2021-06-23T20:03:17.092643Z",
     "start_time": "2021-06-23T20:03:17.028811Z"
    }
   },
   "outputs": [
    {
     "name": "stdout",
     "output_type": "stream",
     "text": [
      "Closest centroids for the first 3 examples:\n",
      "[0 2 1]\n",
      "(the closest centroids should be 0, 2, 1 respectively)\n"
     ]
    }
   ],
   "source": [
    "data = loadmat('datafile.mat')\n",
    "X = data['X']\n",
    "K = 3   # 3 Centroids\n",
    "initial_centroids = np.array([[3, 3], [6, 2], [8, 5]])\n",
    "# Find the closest centroids for the examples using the initial_centroids\n",
    "idx = findClosestCentroids(X, initial_centroids)\n",
    "# runkMeans(X, initial_centroids, findClosestCentroids, computeCentroids,\n",
    "#               max_iters=10, plot_progress=False)\n",
    "\n",
    "print('Closest centroids for the first 3 examples:')\n",
    "print(idx[:3])\n",
    "print('(the closest centroids should be 0, 2, 1 respectively)')"
   ]
  },
  {
   "cell_type": "code",
   "execution_count": 9,
   "metadata": {
    "ExecuteTime": {
     "end_time": "2021-06-23T20:04:04.294420Z",
     "start_time": "2021-06-23T20:04:04.227598Z"
    }
   },
   "outputs": [
    {
     "ename": "NameError",
     "evalue": "name 'X' is not defined",
     "output_type": "error",
     "traceback": [
      "\u001b[1;31m---------------------------------------------------------------------------\u001b[0m",
      "\u001b[1;31mNameError\u001b[0m                                 Traceback (most recent call last)",
      "\u001b[1;32m<ipython-input-9-d0943b57f24c>\u001b[0m in \u001b[0;36m<module>\u001b[1;34m\u001b[0m\n\u001b[1;32m----> 1\u001b[1;33m runkMeans(X, initial_centroids, findClosestCentroids, computeCentroids,\n\u001b[0m\u001b[0;32m      2\u001b[0m               max_iters=10, plot_progress=False)\n",
      "\u001b[1;31mNameError\u001b[0m: name 'X' is not defined"
     ]
    }
   ],
   "source": [
    "runkMeans(X, initial_centroids, findClosestCentroids, computeCentroids,\n",
    "              max_iters=10, plot_progress=False)"
   ]
  },
  {
   "cell_type": "code",
   "execution_count": null,
   "metadata": {},
   "outputs": [],
   "source": []
  },
  {
   "cell_type": "code",
   "execution_count": null,
   "metadata": {
    "ExecuteTime": {
     "end_time": "2021-06-22T22:03:05.332181Z",
     "start_time": "2021-06-22T22:03:05.158146Z"
    }
   },
   "outputs": [],
   "source": []
  },
  {
   "cell_type": "code",
   "execution_count": null,
   "metadata": {},
   "outputs": [],
   "source": []
  },
  {
   "cell_type": "code",
   "execution_count": null,
   "metadata": {},
   "outputs": [],
   "source": []
  }
 ],
 "metadata": {
  "kernelspec": {
   "display_name": "Python 3",
   "language": "python",
   "name": "python3"
  },
  "language_info": {
   "codemirror_mode": {
    "name": "ipython",
    "version": 3
   },
   "file_extension": ".py",
   "mimetype": "text/x-python",
   "name": "python",
   "nbconvert_exporter": "python",
   "pygments_lexer": "ipython3",
   "version": "3.9.0"
  },
  "toc": {
   "base_numbering": 1,
   "nav_menu": {},
   "number_sections": true,
   "sideBar": true,
   "skip_h1_title": false,
   "title_cell": "Table of Contents",
   "title_sidebar": "Contents",
   "toc_cell": false,
   "toc_position": {},
   "toc_section_display": true,
   "toc_window_display": false
  }
 },
 "nbformat": 4,
 "nbformat_minor": 5
}
